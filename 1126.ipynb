{
  "nbformat": 4,
  "nbformat_minor": 0,
  "metadata": {
    "colab": {
      "name": "1126",
      "provenance": [],
      "collapsed_sections": [],
      "include_colab_link": true
    },
    "kernelspec": {
      "name": "ir",
      "display_name": "R"
    }
  },
  "cells": [
    {
      "cell_type": "markdown",
      "metadata": {
        "id": "view-in-github",
        "colab_type": "text"
      },
      "source": [
        "<a href=\"https://colab.research.google.com/github/Teddy539/BigData/blob/master/1126.ipynb\" target=\"_parent\"><img src=\"https://colab.research.google.com/assets/colab-badge.svg\" alt=\"Open In Colab\"/></a>"
      ]
    },
    {
      "cell_type": "code",
      "metadata": {
        "id": "KkQVazUClllo"
      },
      "source": [
        "pkgs <- c(\"tidyverse\",\"lubridate\")"
      ],
      "execution_count": 1,
      "outputs": []
    },
    {
      "cell_type": "code",
      "metadata": {
        "colab": {
          "base_uri": "https://localhost:8080/"
        },
        "id": "ojQxYEBRngll",
        "outputId": "0f4fee82-7925-43f8-caa9-ca6627d44909"
      },
      "source": [
        "library(tidyverse)\n",
        "library(lubridate)"
      ],
      "execution_count": 2,
      "outputs": [
        {
          "output_type": "stream",
          "text": [
            "── \u001b[1mAttaching packages\u001b[22m ─────────────────────────────────────── tidyverse 1.3.0 ──\n",
            "\n",
            "\u001b[32m✔\u001b[39m \u001b[34mggplot2\u001b[39m 3.3.2     \u001b[32m✔\u001b[39m \u001b[34mpurrr  \u001b[39m 0.3.4\n",
            "\u001b[32m✔\u001b[39m \u001b[34mtibble \u001b[39m 3.0.4     \u001b[32m✔\u001b[39m \u001b[34mdplyr  \u001b[39m 1.0.2\n",
            "\u001b[32m✔\u001b[39m \u001b[34mtidyr  \u001b[39m 1.1.2     \u001b[32m✔\u001b[39m \u001b[34mstringr\u001b[39m 1.4.0\n",
            "\u001b[32m✔\u001b[39m \u001b[34mreadr  \u001b[39m 1.4.0     \u001b[32m✔\u001b[39m \u001b[34mforcats\u001b[39m 0.5.0\n",
            "\n",
            "── \u001b[1mConflicts\u001b[22m ────────────────────────────────────────── tidyverse_conflicts() ──\n",
            "\u001b[31m✖\u001b[39m \u001b[34mdplyr\u001b[39m::\u001b[32mfilter()\u001b[39m masks \u001b[34mstats\u001b[39m::filter()\n",
            "\u001b[31m✖\u001b[39m \u001b[34mdplyr\u001b[39m::\u001b[32mlag()\u001b[39m    masks \u001b[34mstats\u001b[39m::lag()\n",
            "\n",
            "\n",
            "Attaching package: ‘lubridate’\n",
            "\n",
            "\n",
            "The following objects are masked from ‘package:base’:\n",
            "\n",
            "    date, intersect, setdiff, union\n",
            "\n",
            "\n"
          ],
          "name": "stderr"
        }
      ]
    },
    {
      "cell_type": "code",
      "metadata": {
        "colab": {
          "base_uri": "https://localhost:8080/"
        },
        "id": "UAT9CjuQnhbn",
        "outputId": "1698528e-63b5-4295-e430-5ce541ec0141"
      },
      "source": [
        "install.packages(\"showtext\")\n",
        "library(showtext)\n",
        "showtext_auto(enable = TRUE)"
      ],
      "execution_count": 3,
      "outputs": [
        {
          "output_type": "stream",
          "text": [
            "Installing package into ‘/usr/local/lib/R/site-library’\n",
            "(as ‘lib’ is unspecified)\n",
            "\n",
            "also installing the dependencies ‘sysfonts’, ‘showtextdb’\n",
            "\n",
            "\n",
            "Loading required package: sysfonts\n",
            "\n",
            "Loading required package: showtextdb\n",
            "\n"
          ],
          "name": "stderr"
        }
      ]
    },
    {
      "cell_type": "code",
      "metadata": {
        "colab": {
          "base_uri": "https://localhost:8080/",
          "height": 1000
        },
        "id": "vuPTjaBXnmvt",
        "outputId": "4cdf3860-f938-4d8b-9c9e-3a8e80d4a50a"
      },
      "source": [
        "trafic <- read.csv(\"1.csv\")\n",
        "trafic"
      ],
      "execution_count": 30,
      "outputs": [
        {
          "output_type": "display_data",
          "data": {
            "text/plain": [
              "      確定病名 發病年份 發病月份 縣市   鄉鎮   性別 是否為境外移入 年齡層\n",
              "1     登革熱   2003     1        台中市 大肚區 M    是             55-59 \n",
              "2     登革熱   2003     1        台中市 北屯區 M    是             10-14 \n",
              "3     登革熱   2003     1        台北市 中山區 F    是             35-39 \n",
              "4     登革熱   2003     1        台北市 內湖區 M    是             35-39 \n",
              "5     登革熱   2003     1        台南市 安南區 F    否             55-59 \n",
              "6     登革熱   2003     1        台南市 南區   F    否             65-69 \n",
              "7     登革熱   2003     1        屏東縣 長治鄉 F    否             35-39 \n",
              "8     登革熱   2003     1        屏東縣 屏東市 F    否             30-34 \n",
              "9     登革熱   2003     1        屏東縣 屏東市 F    否             40-44 \n",
              "10    登革熱   2003     1        屏東縣 屏東市 F    否             45-49 \n",
              "11    登革熱   2003     1        屏東縣 屏東市 M    否             10-14 \n",
              "12    登革熱   2003     1        屏東縣 屏東市 M    否             45-49 \n",
              "13    登革熱   2003     1        屏東縣 屏東市 M    否             55-59 \n",
              "14    登革熱   2003     1        屏東縣 屏東市 M    否             70+   \n",
              "15    登革熱   2003     1        屏東縣 滿州鄉 F    否             40-44 \n",
              "16    登革熱   2003     1        桃園市 中壢區 F    是             45-49 \n",
              "17    登革熱   2003     1        桃園市 平鎮區 M    是             40-44 \n",
              "18    登革熱   2003     1        桃園市 桃園區 M    是             45-49 \n",
              "19    登革熱   2003     1        高雄市 三民區 F    否             15-19 \n",
              "20    登革熱   2003     1        高雄市 三民區 F    否             25-29 \n",
              "21    登革熱   2003     1        高雄市 三民區 F    否             30-34 \n",
              "22    登革熱   2003     1        高雄市 三民區 F    否             40-44 \n",
              "23    登革熱   2003     1        高雄市 三民區 F    否             60-64 \n",
              "24    登革熱   2003     1        高雄市 三民區 F    否             65-69 \n",
              "25    登革熱   2003     1        高雄市 三民區 F    否             70+   \n",
              "26    登革熱   2003     1        高雄市 三民區 M    否             1     \n",
              "27    登革熱   2003     1        高雄市 三民區 M    否             45-49 \n",
              "28    登革熱   2003     1        高雄市 三民區 M    否             50-54 \n",
              "29    登革熱   2003     1        高雄市 三民區 M    否             55-59 \n",
              "30    登革熱   2003     1        高雄市 三民區 M    否             60-64 \n",
              "⋮     ⋮        ⋮        ⋮        ⋮      ⋮      ⋮    ⋮              ⋮     \n",
              "18214 登革熱   2020     2        台中市 神岡區 M    是             40-44 \n",
              "18215 登革熱   2020     2        台北市 大同區 M    是             20-24 \n",
              "18216 登革熱   2020     2        台北市 大同區 M    是             50-54 \n",
              "18217 登革熱   2020     2        台北市 文山區 M    是             15-19 \n",
              "18218 登革熱   2020     2        台北市 文山區 M    是             45-49 \n",
              "18219 登革熱   2020     2        屏東縣 萬丹鄉 F    是             30-34 \n",
              "18220 登革熱   2020     2        桃園市 大園區 F    是             30-34 \n",
              "18221 登革熱   2020     2        桃園市 楊梅區 F    是             25-29 \n",
              "18222 登革熱   2020     2        高雄市 三民區 F    是             40-44 \n",
              "18223 登革熱   2020     2        新北市 中和區 F    是             20-24 \n",
              "18224 登革熱   2020     2        新北市 林口區 M    是             30-34 \n",
              "18225 登革熱   2020     2        新北市 板橋區 M    是             3     \n",
              "18226 登革熱   2020     2        新北市 烏來區 M    是             25-29 \n",
              "18227 登革熱   2020     2        彰化縣 員林市 F    是             20-24 \n",
              "18228 登革熱   2020     3        台中市 北屯區 M    是             30-34 \n",
              "18229 登革熱   2020     3        台北市 中正區 F    是             20-24 \n",
              "18230 登革熱   2020     3        台南市 永康區 M    是             25-29 \n",
              "18231 登革熱   2020     3        屏東縣 內埔鄉 M    是             50-54 \n",
              "18232 登革熱   2020     3        苗栗縣 銅鑼鄉 M    是             30-34 \n",
              "18233 登革熱   2020     3        高雄市 茄萣區 M    是             25-29 \n",
              "18234 登革熱   2020     3        新北市 三重區 M    是             30-34 \n",
              "18235 登革熱   2020     3        新北市 新店區 M    是             50-54 \n",
              "18236 登革熱   2020     3        新北市 新莊區 M    是             15-19 \n",
              "18237 登革熱   2020     3        彰化縣 鹿港鎮 M    是             10-14 \n",
              "18238 登革熱   2020     4        新北市 淡水區 M    是             35-39 \n",
              "18239 登革熱   2020     5        新北市 中和區 F    是             30-34 \n",
              "18240 登革熱   2020     6        台北市 信義區 F    是             40-44 \n",
              "18241 登革熱   2020     6        高雄市 燕巢區 F    是             25-29 \n",
              "18242 登革熱   2020     6        高雄市 燕巢區 F    是             30-34 \n",
              "18243 登革熱   2020     6        新北市 永和區 M    是             65-69 \n",
              "      確定病例數\n",
              "1     1         \n",
              "2     1         \n",
              "3     1         \n",
              "4     1         \n",
              "5     1         \n",
              "6     1         \n",
              "7     1         \n",
              "8     1         \n",
              "9     1         \n",
              "10    1         \n",
              "11    1         \n",
              "12    1         \n",
              "13    2         \n",
              "14    1         \n",
              "15    1         \n",
              "16    1         \n",
              "17    1         \n",
              "18    1         \n",
              "19    1         \n",
              "20    1         \n",
              "21    1         \n",
              "22    2         \n",
              "23    1         \n",
              "24    1         \n",
              "25    2         \n",
              "26    1         \n",
              "27    3         \n",
              "28    1         \n",
              "29    1         \n",
              "30    1         \n",
              "⋮     ⋮         \n",
              "18214 1         \n",
              "18215 1         \n",
              "18216 1         \n",
              "18217 1         \n",
              "18218 1         \n",
              "18219 1         \n",
              "18220 1         \n",
              "18221 1         \n",
              "18222 1         \n",
              "18223 1         \n",
              "18224 1         \n",
              "18225 1         \n",
              "18226 1         \n",
              "18227 1         \n",
              "18228 1         \n",
              "18229 1         \n",
              "18230 1         \n",
              "18231 1         \n",
              "18232 1         \n",
              "18233 1         \n",
              "18234 1         \n",
              "18235 1         \n",
              "18236 1         \n",
              "18237 1         \n",
              "18238 1         \n",
              "18239 1         \n",
              "18240 1         \n",
              "18241 1         \n",
              "18242 1         \n",
              "18243 1         "
            ],
            "text/latex": "A data.frame: 18243 × 9\n\\begin{tabular}{lllllllll}\n 確定病名 & 發病年份 & 發病月份 & 縣市 & 鄉鎮 & 性別 & 是否為境外移入 & 年齡層 & 確定病例數\\\\\n <chr> & <int> & <int> & <chr> & <chr> & <chr> & <chr> & <chr> & <int>\\\\\n\\hline\n\t 登革熱 & 2003 & 1 & 台中市 & 大肚區 & M & 是 & 55-59 & 1\\\\\n\t 登革熱 & 2003 & 1 & 台中市 & 北屯區 & M & 是 & 10-14 & 1\\\\\n\t 登革熱 & 2003 & 1 & 台北市 & 中山區 & F & 是 & 35-39 & 1\\\\\n\t 登革熱 & 2003 & 1 & 台北市 & 內湖區 & M & 是 & 35-39 & 1\\\\\n\t 登革熱 & 2003 & 1 & 台南市 & 安南區 & F & 否 & 55-59 & 1\\\\\n\t 登革熱 & 2003 & 1 & 台南市 & 南區   & F & 否 & 65-69 & 1\\\\\n\t 登革熱 & 2003 & 1 & 屏東縣 & 長治鄉 & F & 否 & 35-39 & 1\\\\\n\t 登革熱 & 2003 & 1 & 屏東縣 & 屏東市 & F & 否 & 30-34 & 1\\\\\n\t 登革熱 & 2003 & 1 & 屏東縣 & 屏東市 & F & 否 & 40-44 & 1\\\\\n\t 登革熱 & 2003 & 1 & 屏東縣 & 屏東市 & F & 否 & 45-49 & 1\\\\\n\t 登革熱 & 2003 & 1 & 屏東縣 & 屏東市 & M & 否 & 10-14 & 1\\\\\n\t 登革熱 & 2003 & 1 & 屏東縣 & 屏東市 & M & 否 & 45-49 & 1\\\\\n\t 登革熱 & 2003 & 1 & 屏東縣 & 屏東市 & M & 否 & 55-59 & 2\\\\\n\t 登革熱 & 2003 & 1 & 屏東縣 & 屏東市 & M & 否 & 70+   & 1\\\\\n\t 登革熱 & 2003 & 1 & 屏東縣 & 滿州鄉 & F & 否 & 40-44 & 1\\\\\n\t 登革熱 & 2003 & 1 & 桃園市 & 中壢區 & F & 是 & 45-49 & 1\\\\\n\t 登革熱 & 2003 & 1 & 桃園市 & 平鎮區 & M & 是 & 40-44 & 1\\\\\n\t 登革熱 & 2003 & 1 & 桃園市 & 桃園區 & M & 是 & 45-49 & 1\\\\\n\t 登革熱 & 2003 & 1 & 高雄市 & 三民區 & F & 否 & 15-19 & 1\\\\\n\t 登革熱 & 2003 & 1 & 高雄市 & 三民區 & F & 否 & 25-29 & 1\\\\\n\t 登革熱 & 2003 & 1 & 高雄市 & 三民區 & F & 否 & 30-34 & 1\\\\\n\t 登革熱 & 2003 & 1 & 高雄市 & 三民區 & F & 否 & 40-44 & 2\\\\\n\t 登革熱 & 2003 & 1 & 高雄市 & 三民區 & F & 否 & 60-64 & 1\\\\\n\t 登革熱 & 2003 & 1 & 高雄市 & 三民區 & F & 否 & 65-69 & 1\\\\\n\t 登革熱 & 2003 & 1 & 高雄市 & 三民區 & F & 否 & 70+   & 2\\\\\n\t 登革熱 & 2003 & 1 & 高雄市 & 三民區 & M & 否 & 1     & 1\\\\\n\t 登革熱 & 2003 & 1 & 高雄市 & 三民區 & M & 否 & 45-49 & 3\\\\\n\t 登革熱 & 2003 & 1 & 高雄市 & 三民區 & M & 否 & 50-54 & 1\\\\\n\t 登革熱 & 2003 & 1 & 高雄市 & 三民區 & M & 否 & 55-59 & 1\\\\\n\t 登革熱 & 2003 & 1 & 高雄市 & 三民區 & M & 否 & 60-64 & 1\\\\\n\t ⋮ & ⋮ & ⋮ & ⋮ & ⋮ & ⋮ & ⋮ & ⋮ & ⋮\\\\\n\t 登革熱 & 2020 & 2 & 台中市 & 神岡區 & M & 是 & 40-44 & 1\\\\\n\t 登革熱 & 2020 & 2 & 台北市 & 大同區 & M & 是 & 20-24 & 1\\\\\n\t 登革熱 & 2020 & 2 & 台北市 & 大同區 & M & 是 & 50-54 & 1\\\\\n\t 登革熱 & 2020 & 2 & 台北市 & 文山區 & M & 是 & 15-19 & 1\\\\\n\t 登革熱 & 2020 & 2 & 台北市 & 文山區 & M & 是 & 45-49 & 1\\\\\n\t 登革熱 & 2020 & 2 & 屏東縣 & 萬丹鄉 & F & 是 & 30-34 & 1\\\\\n\t 登革熱 & 2020 & 2 & 桃園市 & 大園區 & F & 是 & 30-34 & 1\\\\\n\t 登革熱 & 2020 & 2 & 桃園市 & 楊梅區 & F & 是 & 25-29 & 1\\\\\n\t 登革熱 & 2020 & 2 & 高雄市 & 三民區 & F & 是 & 40-44 & 1\\\\\n\t 登革熱 & 2020 & 2 & 新北市 & 中和區 & F & 是 & 20-24 & 1\\\\\n\t 登革熱 & 2020 & 2 & 新北市 & 林口區 & M & 是 & 30-34 & 1\\\\\n\t 登革熱 & 2020 & 2 & 新北市 & 板橋區 & M & 是 & 3     & 1\\\\\n\t 登革熱 & 2020 & 2 & 新北市 & 烏來區 & M & 是 & 25-29 & 1\\\\\n\t 登革熱 & 2020 & 2 & 彰化縣 & 員林市 & F & 是 & 20-24 & 1\\\\\n\t 登革熱 & 2020 & 3 & 台中市 & 北屯區 & M & 是 & 30-34 & 1\\\\\n\t 登革熱 & 2020 & 3 & 台北市 & 中正區 & F & 是 & 20-24 & 1\\\\\n\t 登革熱 & 2020 & 3 & 台南市 & 永康區 & M & 是 & 25-29 & 1\\\\\n\t 登革熱 & 2020 & 3 & 屏東縣 & 內埔鄉 & M & 是 & 50-54 & 1\\\\\n\t 登革熱 & 2020 & 3 & 苗栗縣 & 銅鑼鄉 & M & 是 & 30-34 & 1\\\\\n\t 登革熱 & 2020 & 3 & 高雄市 & 茄萣區 & M & 是 & 25-29 & 1\\\\\n\t 登革熱 & 2020 & 3 & 新北市 & 三重區 & M & 是 & 30-34 & 1\\\\\n\t 登革熱 & 2020 & 3 & 新北市 & 新店區 & M & 是 & 50-54 & 1\\\\\n\t 登革熱 & 2020 & 3 & 新北市 & 新莊區 & M & 是 & 15-19 & 1\\\\\n\t 登革熱 & 2020 & 3 & 彰化縣 & 鹿港鎮 & M & 是 & 10-14 & 1\\\\\n\t 登革熱 & 2020 & 4 & 新北市 & 淡水區 & M & 是 & 35-39 & 1\\\\\n\t 登革熱 & 2020 & 5 & 新北市 & 中和區 & F & 是 & 30-34 & 1\\\\\n\t 登革熱 & 2020 & 6 & 台北市 & 信義區 & F & 是 & 40-44 & 1\\\\\n\t 登革熱 & 2020 & 6 & 高雄市 & 燕巢區 & F & 是 & 25-29 & 1\\\\\n\t 登革熱 & 2020 & 6 & 高雄市 & 燕巢區 & F & 是 & 30-34 & 1\\\\\n\t 登革熱 & 2020 & 6 & 新北市 & 永和區 & M & 是 & 65-69 & 1\\\\\n\\end{tabular}\n",
            "text/markdown": "\nA data.frame: 18243 × 9\n\n| 確定病名 &lt;chr&gt; | 發病年份 &lt;int&gt; | 發病月份 &lt;int&gt; | 縣市 &lt;chr&gt; | 鄉鎮 &lt;chr&gt; | 性別 &lt;chr&gt; | 是否為境外移入 &lt;chr&gt; | 年齡層 &lt;chr&gt; | 確定病例數 &lt;int&gt; |\n|---|---|---|---|---|---|---|---|---|\n| 登革熱 | 2003 | 1 | 台中市 | 大肚區 | M | 是 | 55-59 | 1 |\n| 登革熱 | 2003 | 1 | 台中市 | 北屯區 | M | 是 | 10-14 | 1 |\n| 登革熱 | 2003 | 1 | 台北市 | 中山區 | F | 是 | 35-39 | 1 |\n| 登革熱 | 2003 | 1 | 台北市 | 內湖區 | M | 是 | 35-39 | 1 |\n| 登革熱 | 2003 | 1 | 台南市 | 安南區 | F | 否 | 55-59 | 1 |\n| 登革熱 | 2003 | 1 | 台南市 | 南區   | F | 否 | 65-69 | 1 |\n| 登革熱 | 2003 | 1 | 屏東縣 | 長治鄉 | F | 否 | 35-39 | 1 |\n| 登革熱 | 2003 | 1 | 屏東縣 | 屏東市 | F | 否 | 30-34 | 1 |\n| 登革熱 | 2003 | 1 | 屏東縣 | 屏東市 | F | 否 | 40-44 | 1 |\n| 登革熱 | 2003 | 1 | 屏東縣 | 屏東市 | F | 否 | 45-49 | 1 |\n| 登革熱 | 2003 | 1 | 屏東縣 | 屏東市 | M | 否 | 10-14 | 1 |\n| 登革熱 | 2003 | 1 | 屏東縣 | 屏東市 | M | 否 | 45-49 | 1 |\n| 登革熱 | 2003 | 1 | 屏東縣 | 屏東市 | M | 否 | 55-59 | 2 |\n| 登革熱 | 2003 | 1 | 屏東縣 | 屏東市 | M | 否 | 70+   | 1 |\n| 登革熱 | 2003 | 1 | 屏東縣 | 滿州鄉 | F | 否 | 40-44 | 1 |\n| 登革熱 | 2003 | 1 | 桃園市 | 中壢區 | F | 是 | 45-49 | 1 |\n| 登革熱 | 2003 | 1 | 桃園市 | 平鎮區 | M | 是 | 40-44 | 1 |\n| 登革熱 | 2003 | 1 | 桃園市 | 桃園區 | M | 是 | 45-49 | 1 |\n| 登革熱 | 2003 | 1 | 高雄市 | 三民區 | F | 否 | 15-19 | 1 |\n| 登革熱 | 2003 | 1 | 高雄市 | 三民區 | F | 否 | 25-29 | 1 |\n| 登革熱 | 2003 | 1 | 高雄市 | 三民區 | F | 否 | 30-34 | 1 |\n| 登革熱 | 2003 | 1 | 高雄市 | 三民區 | F | 否 | 40-44 | 2 |\n| 登革熱 | 2003 | 1 | 高雄市 | 三民區 | F | 否 | 60-64 | 1 |\n| 登革熱 | 2003 | 1 | 高雄市 | 三民區 | F | 否 | 65-69 | 1 |\n| 登革熱 | 2003 | 1 | 高雄市 | 三民區 | F | 否 | 70+   | 2 |\n| 登革熱 | 2003 | 1 | 高雄市 | 三民區 | M | 否 | 1     | 1 |\n| 登革熱 | 2003 | 1 | 高雄市 | 三民區 | M | 否 | 45-49 | 3 |\n| 登革熱 | 2003 | 1 | 高雄市 | 三民區 | M | 否 | 50-54 | 1 |\n| 登革熱 | 2003 | 1 | 高雄市 | 三民區 | M | 否 | 55-59 | 1 |\n| 登革熱 | 2003 | 1 | 高雄市 | 三民區 | M | 否 | 60-64 | 1 |\n| ⋮ | ⋮ | ⋮ | ⋮ | ⋮ | ⋮ | ⋮ | ⋮ | ⋮ |\n| 登革熱 | 2020 | 2 | 台中市 | 神岡區 | M | 是 | 40-44 | 1 |\n| 登革熱 | 2020 | 2 | 台北市 | 大同區 | M | 是 | 20-24 | 1 |\n| 登革熱 | 2020 | 2 | 台北市 | 大同區 | M | 是 | 50-54 | 1 |\n| 登革熱 | 2020 | 2 | 台北市 | 文山區 | M | 是 | 15-19 | 1 |\n| 登革熱 | 2020 | 2 | 台北市 | 文山區 | M | 是 | 45-49 | 1 |\n| 登革熱 | 2020 | 2 | 屏東縣 | 萬丹鄉 | F | 是 | 30-34 | 1 |\n| 登革熱 | 2020 | 2 | 桃園市 | 大園區 | F | 是 | 30-34 | 1 |\n| 登革熱 | 2020 | 2 | 桃園市 | 楊梅區 | F | 是 | 25-29 | 1 |\n| 登革熱 | 2020 | 2 | 高雄市 | 三民區 | F | 是 | 40-44 | 1 |\n| 登革熱 | 2020 | 2 | 新北市 | 中和區 | F | 是 | 20-24 | 1 |\n| 登革熱 | 2020 | 2 | 新北市 | 林口區 | M | 是 | 30-34 | 1 |\n| 登革熱 | 2020 | 2 | 新北市 | 板橋區 | M | 是 | 3     | 1 |\n| 登革熱 | 2020 | 2 | 新北市 | 烏來區 | M | 是 | 25-29 | 1 |\n| 登革熱 | 2020 | 2 | 彰化縣 | 員林市 | F | 是 | 20-24 | 1 |\n| 登革熱 | 2020 | 3 | 台中市 | 北屯區 | M | 是 | 30-34 | 1 |\n| 登革熱 | 2020 | 3 | 台北市 | 中正區 | F | 是 | 20-24 | 1 |\n| 登革熱 | 2020 | 3 | 台南市 | 永康區 | M | 是 | 25-29 | 1 |\n| 登革熱 | 2020 | 3 | 屏東縣 | 內埔鄉 | M | 是 | 50-54 | 1 |\n| 登革熱 | 2020 | 3 | 苗栗縣 | 銅鑼鄉 | M | 是 | 30-34 | 1 |\n| 登革熱 | 2020 | 3 | 高雄市 | 茄萣區 | M | 是 | 25-29 | 1 |\n| 登革熱 | 2020 | 3 | 新北市 | 三重區 | M | 是 | 30-34 | 1 |\n| 登革熱 | 2020 | 3 | 新北市 | 新店區 | M | 是 | 50-54 | 1 |\n| 登革熱 | 2020 | 3 | 新北市 | 新莊區 | M | 是 | 15-19 | 1 |\n| 登革熱 | 2020 | 3 | 彰化縣 | 鹿港鎮 | M | 是 | 10-14 | 1 |\n| 登革熱 | 2020 | 4 | 新北市 | 淡水區 | M | 是 | 35-39 | 1 |\n| 登革熱 | 2020 | 5 | 新北市 | 中和區 | F | 是 | 30-34 | 1 |\n| 登革熱 | 2020 | 6 | 台北市 | 信義區 | F | 是 | 40-44 | 1 |\n| 登革熱 | 2020 | 6 | 高雄市 | 燕巢區 | F | 是 | 25-29 | 1 |\n| 登革熱 | 2020 | 6 | 高雄市 | 燕巢區 | F | 是 | 30-34 | 1 |\n| 登革熱 | 2020 | 6 | 新北市 | 永和區 | M | 是 | 65-69 | 1 |\n\n",
            "text/html": [
              "<table>\n",
              "<caption>A data.frame: 18243 × 9</caption>\n",
              "<thead>\n",
              "\t<tr><th scope=col>確定病名</th><th scope=col>發病年份</th><th scope=col>發病月份</th><th scope=col>縣市</th><th scope=col>鄉鎮</th><th scope=col>性別</th><th scope=col>是否為境外移入</th><th scope=col>年齡層</th><th scope=col>確定病例數</th></tr>\n",
              "\t<tr><th scope=col>&lt;chr&gt;</th><th scope=col>&lt;int&gt;</th><th scope=col>&lt;int&gt;</th><th scope=col>&lt;chr&gt;</th><th scope=col>&lt;chr&gt;</th><th scope=col>&lt;chr&gt;</th><th scope=col>&lt;chr&gt;</th><th scope=col>&lt;chr&gt;</th><th scope=col>&lt;int&gt;</th></tr>\n",
              "</thead>\n",
              "<tbody>\n",
              "\t<tr><td>登革熱</td><td>2003</td><td>1</td><td>台中市</td><td>大肚區</td><td>M</td><td>是</td><td>55-59</td><td>1</td></tr>\n",
              "\t<tr><td>登革熱</td><td>2003</td><td>1</td><td>台中市</td><td>北屯區</td><td>M</td><td>是</td><td>10-14</td><td>1</td></tr>\n",
              "\t<tr><td>登革熱</td><td>2003</td><td>1</td><td>台北市</td><td>中山區</td><td>F</td><td>是</td><td>35-39</td><td>1</td></tr>\n",
              "\t<tr><td>登革熱</td><td>2003</td><td>1</td><td>台北市</td><td>內湖區</td><td>M</td><td>是</td><td>35-39</td><td>1</td></tr>\n",
              "\t<tr><td>登革熱</td><td>2003</td><td>1</td><td>台南市</td><td>安南區</td><td>F</td><td>否</td><td>55-59</td><td>1</td></tr>\n",
              "\t<tr><td>登革熱</td><td>2003</td><td>1</td><td>台南市</td><td>南區  </td><td>F</td><td>否</td><td>65-69</td><td>1</td></tr>\n",
              "\t<tr><td>登革熱</td><td>2003</td><td>1</td><td>屏東縣</td><td>長治鄉</td><td>F</td><td>否</td><td>35-39</td><td>1</td></tr>\n",
              "\t<tr><td>登革熱</td><td>2003</td><td>1</td><td>屏東縣</td><td>屏東市</td><td>F</td><td>否</td><td>30-34</td><td>1</td></tr>\n",
              "\t<tr><td>登革熱</td><td>2003</td><td>1</td><td>屏東縣</td><td>屏東市</td><td>F</td><td>否</td><td>40-44</td><td>1</td></tr>\n",
              "\t<tr><td>登革熱</td><td>2003</td><td>1</td><td>屏東縣</td><td>屏東市</td><td>F</td><td>否</td><td>45-49</td><td>1</td></tr>\n",
              "\t<tr><td>登革熱</td><td>2003</td><td>1</td><td>屏東縣</td><td>屏東市</td><td>M</td><td>否</td><td>10-14</td><td>1</td></tr>\n",
              "\t<tr><td>登革熱</td><td>2003</td><td>1</td><td>屏東縣</td><td>屏東市</td><td>M</td><td>否</td><td>45-49</td><td>1</td></tr>\n",
              "\t<tr><td>登革熱</td><td>2003</td><td>1</td><td>屏東縣</td><td>屏東市</td><td>M</td><td>否</td><td>55-59</td><td>2</td></tr>\n",
              "\t<tr><td>登革熱</td><td>2003</td><td>1</td><td>屏東縣</td><td>屏東市</td><td>M</td><td>否</td><td>70+  </td><td>1</td></tr>\n",
              "\t<tr><td>登革熱</td><td>2003</td><td>1</td><td>屏東縣</td><td>滿州鄉</td><td>F</td><td>否</td><td>40-44</td><td>1</td></tr>\n",
              "\t<tr><td>登革熱</td><td>2003</td><td>1</td><td>桃園市</td><td>中壢區</td><td>F</td><td>是</td><td>45-49</td><td>1</td></tr>\n",
              "\t<tr><td>登革熱</td><td>2003</td><td>1</td><td>桃園市</td><td>平鎮區</td><td>M</td><td>是</td><td>40-44</td><td>1</td></tr>\n",
              "\t<tr><td>登革熱</td><td>2003</td><td>1</td><td>桃園市</td><td>桃園區</td><td>M</td><td>是</td><td>45-49</td><td>1</td></tr>\n",
              "\t<tr><td>登革熱</td><td>2003</td><td>1</td><td>高雄市</td><td>三民區</td><td>F</td><td>否</td><td>15-19</td><td>1</td></tr>\n",
              "\t<tr><td>登革熱</td><td>2003</td><td>1</td><td>高雄市</td><td>三民區</td><td>F</td><td>否</td><td>25-29</td><td>1</td></tr>\n",
              "\t<tr><td>登革熱</td><td>2003</td><td>1</td><td>高雄市</td><td>三民區</td><td>F</td><td>否</td><td>30-34</td><td>1</td></tr>\n",
              "\t<tr><td>登革熱</td><td>2003</td><td>1</td><td>高雄市</td><td>三民區</td><td>F</td><td>否</td><td>40-44</td><td>2</td></tr>\n",
              "\t<tr><td>登革熱</td><td>2003</td><td>1</td><td>高雄市</td><td>三民區</td><td>F</td><td>否</td><td>60-64</td><td>1</td></tr>\n",
              "\t<tr><td>登革熱</td><td>2003</td><td>1</td><td>高雄市</td><td>三民區</td><td>F</td><td>否</td><td>65-69</td><td>1</td></tr>\n",
              "\t<tr><td>登革熱</td><td>2003</td><td>1</td><td>高雄市</td><td>三民區</td><td>F</td><td>否</td><td>70+  </td><td>2</td></tr>\n",
              "\t<tr><td>登革熱</td><td>2003</td><td>1</td><td>高雄市</td><td>三民區</td><td>M</td><td>否</td><td>1    </td><td>1</td></tr>\n",
              "\t<tr><td>登革熱</td><td>2003</td><td>1</td><td>高雄市</td><td>三民區</td><td>M</td><td>否</td><td>45-49</td><td>3</td></tr>\n",
              "\t<tr><td>登革熱</td><td>2003</td><td>1</td><td>高雄市</td><td>三民區</td><td>M</td><td>否</td><td>50-54</td><td>1</td></tr>\n",
              "\t<tr><td>登革熱</td><td>2003</td><td>1</td><td>高雄市</td><td>三民區</td><td>M</td><td>否</td><td>55-59</td><td>1</td></tr>\n",
              "\t<tr><td>登革熱</td><td>2003</td><td>1</td><td>高雄市</td><td>三民區</td><td>M</td><td>否</td><td>60-64</td><td>1</td></tr>\n",
              "\t<tr><td>⋮</td><td>⋮</td><td>⋮</td><td>⋮</td><td>⋮</td><td>⋮</td><td>⋮</td><td>⋮</td><td>⋮</td></tr>\n",
              "\t<tr><td>登革熱</td><td>2020</td><td>2</td><td>台中市</td><td>神岡區</td><td>M</td><td>是</td><td>40-44</td><td>1</td></tr>\n",
              "\t<tr><td>登革熱</td><td>2020</td><td>2</td><td>台北市</td><td>大同區</td><td>M</td><td>是</td><td>20-24</td><td>1</td></tr>\n",
              "\t<tr><td>登革熱</td><td>2020</td><td>2</td><td>台北市</td><td>大同區</td><td>M</td><td>是</td><td>50-54</td><td>1</td></tr>\n",
              "\t<tr><td>登革熱</td><td>2020</td><td>2</td><td>台北市</td><td>文山區</td><td>M</td><td>是</td><td>15-19</td><td>1</td></tr>\n",
              "\t<tr><td>登革熱</td><td>2020</td><td>2</td><td>台北市</td><td>文山區</td><td>M</td><td>是</td><td>45-49</td><td>1</td></tr>\n",
              "\t<tr><td>登革熱</td><td>2020</td><td>2</td><td>屏東縣</td><td>萬丹鄉</td><td>F</td><td>是</td><td>30-34</td><td>1</td></tr>\n",
              "\t<tr><td>登革熱</td><td>2020</td><td>2</td><td>桃園市</td><td>大園區</td><td>F</td><td>是</td><td>30-34</td><td>1</td></tr>\n",
              "\t<tr><td>登革熱</td><td>2020</td><td>2</td><td>桃園市</td><td>楊梅區</td><td>F</td><td>是</td><td>25-29</td><td>1</td></tr>\n",
              "\t<tr><td>登革熱</td><td>2020</td><td>2</td><td>高雄市</td><td>三民區</td><td>F</td><td>是</td><td>40-44</td><td>1</td></tr>\n",
              "\t<tr><td>登革熱</td><td>2020</td><td>2</td><td>新北市</td><td>中和區</td><td>F</td><td>是</td><td>20-24</td><td>1</td></tr>\n",
              "\t<tr><td>登革熱</td><td>2020</td><td>2</td><td>新北市</td><td>林口區</td><td>M</td><td>是</td><td>30-34</td><td>1</td></tr>\n",
              "\t<tr><td>登革熱</td><td>2020</td><td>2</td><td>新北市</td><td>板橋區</td><td>M</td><td>是</td><td>3    </td><td>1</td></tr>\n",
              "\t<tr><td>登革熱</td><td>2020</td><td>2</td><td>新北市</td><td>烏來區</td><td>M</td><td>是</td><td>25-29</td><td>1</td></tr>\n",
              "\t<tr><td>登革熱</td><td>2020</td><td>2</td><td>彰化縣</td><td>員林市</td><td>F</td><td>是</td><td>20-24</td><td>1</td></tr>\n",
              "\t<tr><td>登革熱</td><td>2020</td><td>3</td><td>台中市</td><td>北屯區</td><td>M</td><td>是</td><td>30-34</td><td>1</td></tr>\n",
              "\t<tr><td>登革熱</td><td>2020</td><td>3</td><td>台北市</td><td>中正區</td><td>F</td><td>是</td><td>20-24</td><td>1</td></tr>\n",
              "\t<tr><td>登革熱</td><td>2020</td><td>3</td><td>台南市</td><td>永康區</td><td>M</td><td>是</td><td>25-29</td><td>1</td></tr>\n",
              "\t<tr><td>登革熱</td><td>2020</td><td>3</td><td>屏東縣</td><td>內埔鄉</td><td>M</td><td>是</td><td>50-54</td><td>1</td></tr>\n",
              "\t<tr><td>登革熱</td><td>2020</td><td>3</td><td>苗栗縣</td><td>銅鑼鄉</td><td>M</td><td>是</td><td>30-34</td><td>1</td></tr>\n",
              "\t<tr><td>登革熱</td><td>2020</td><td>3</td><td>高雄市</td><td>茄萣區</td><td>M</td><td>是</td><td>25-29</td><td>1</td></tr>\n",
              "\t<tr><td>登革熱</td><td>2020</td><td>3</td><td>新北市</td><td>三重區</td><td>M</td><td>是</td><td>30-34</td><td>1</td></tr>\n",
              "\t<tr><td>登革熱</td><td>2020</td><td>3</td><td>新北市</td><td>新店區</td><td>M</td><td>是</td><td>50-54</td><td>1</td></tr>\n",
              "\t<tr><td>登革熱</td><td>2020</td><td>3</td><td>新北市</td><td>新莊區</td><td>M</td><td>是</td><td>15-19</td><td>1</td></tr>\n",
              "\t<tr><td>登革熱</td><td>2020</td><td>3</td><td>彰化縣</td><td>鹿港鎮</td><td>M</td><td>是</td><td>10-14</td><td>1</td></tr>\n",
              "\t<tr><td>登革熱</td><td>2020</td><td>4</td><td>新北市</td><td>淡水區</td><td>M</td><td>是</td><td>35-39</td><td>1</td></tr>\n",
              "\t<tr><td>登革熱</td><td>2020</td><td>5</td><td>新北市</td><td>中和區</td><td>F</td><td>是</td><td>30-34</td><td>1</td></tr>\n",
              "\t<tr><td>登革熱</td><td>2020</td><td>6</td><td>台北市</td><td>信義區</td><td>F</td><td>是</td><td>40-44</td><td>1</td></tr>\n",
              "\t<tr><td>登革熱</td><td>2020</td><td>6</td><td>高雄市</td><td>燕巢區</td><td>F</td><td>是</td><td>25-29</td><td>1</td></tr>\n",
              "\t<tr><td>登革熱</td><td>2020</td><td>6</td><td>高雄市</td><td>燕巢區</td><td>F</td><td>是</td><td>30-34</td><td>1</td></tr>\n",
              "\t<tr><td>登革熱</td><td>2020</td><td>6</td><td>新北市</td><td>永和區</td><td>M</td><td>是</td><td>65-69</td><td>1</td></tr>\n",
              "</tbody>\n",
              "</table>\n"
            ]
          },
          "metadata": {
            "tags": []
          }
        }
      ]
    },
    {
      "cell_type": "code",
      "metadata": {
        "colab": {
          "base_uri": "https://localhost:8080/",
          "height": 245
        },
        "id": "KSC0UlBPpABf",
        "outputId": "002f847b-5ad7-4293-9837-d391175b9575"
      },
      "source": [
        "trafic %>% count(船務公司)"
      ],
      "execution_count": 16,
      "outputs": [
        {
          "output_type": "display_data",
          "data": {
            "text/plain": [
              "  船務公司           n \n",
              "1 伍航公司           14\n",
              "2 基昌公司            4\n",
              "3 正華公司            6\n",
              "4 海天公司            1\n",
              "5 百利公司            2\n",
              "6 經偉公司           56\n",
              "7 英豐公司            1\n",
              "8 驥達物流高雄分公司  1"
            ],
            "text/latex": "A data.frame: 8 × 2\n\\begin{tabular}{ll}\n 船務公司 & n\\\\\n <chr> & <int>\\\\\n\\hline\n\t 伍航公司           & 14\\\\\n\t 基昌公司           &  4\\\\\n\t 正華公司           &  6\\\\\n\t 海天公司           &  1\\\\\n\t 百利公司           &  2\\\\\n\t 經偉公司           & 56\\\\\n\t 英豐公司           &  1\\\\\n\t 驥達物流高雄分公司 &  1\\\\\n\\end{tabular}\n",
            "text/markdown": "\nA data.frame: 8 × 2\n\n| 船務公司 &lt;chr&gt; | n &lt;int&gt; |\n|---|---|\n| 伍航公司           | 14 |\n| 基昌公司           |  4 |\n| 正華公司           |  6 |\n| 海天公司           |  1 |\n| 百利公司           |  2 |\n| 經偉公司           | 56 |\n| 英豐公司           |  1 |\n| 驥達物流高雄分公司 |  1 |\n\n",
            "text/html": [
              "<table>\n",
              "<caption>A data.frame: 8 × 2</caption>\n",
              "<thead>\n",
              "\t<tr><th scope=col>船務公司</th><th scope=col>n</th></tr>\n",
              "\t<tr><th scope=col>&lt;chr&gt;</th><th scope=col>&lt;int&gt;</th></tr>\n",
              "</thead>\n",
              "<tbody>\n",
              "\t<tr><td>伍航公司          </td><td>14</td></tr>\n",
              "\t<tr><td>基昌公司          </td><td> 4</td></tr>\n",
              "\t<tr><td>正華公司          </td><td> 6</td></tr>\n",
              "\t<tr><td>海天公司          </td><td> 1</td></tr>\n",
              "\t<tr><td>百利公司          </td><td> 2</td></tr>\n",
              "\t<tr><td>經偉公司          </td><td>56</td></tr>\n",
              "\t<tr><td>英豐公司          </td><td> 1</td></tr>\n",
              "\t<tr><td>驥達物流高雄分公司</td><td> 1</td></tr>\n",
              "</tbody>\n",
              "</table>\n"
            ]
          },
          "metadata": {
            "tags": []
          }
        }
      ]
    },
    {
      "cell_type": "markdown",
      "metadata": {
        "id": "CQTi4Sa15lSB"
      },
      "source": [
        "討論一:**台灣登革熱在2003年到2020年的發病次數統計**"
      ]
    },
    {
      "cell_type": "code",
      "metadata": {
        "colab": {
          "base_uri": "https://localhost:8080/",
          "height": 437
        },
        "id": "Pcuz8wn8rDUD",
        "outputId": "872a2476-9b8d-40b3-8c5d-78e7bed45b55"
      },
      "source": [
        "trafic %>%\n",
        " count(發病年份\t) %>%\n",
        " ggplot(aes(x=發病年份\t,y=n,fill = 發病年份\t)) +\n",
        " geom_col() +\n",
        " geom_text(aes(label = n),vjust = 0) +\n",
        " labs(title = \"不同年分的發病次數\",x = \"發病年份\t\",y = \"數量\") + theme(legend.position= \"none\")"
      ],
      "execution_count": 39,
      "outputs": [
        {
          "output_type": "display_data",
          "data": {
            "image/png": "[encoded data removed]",
            "text/plain": [
              "plot without title"
            ]
          },
          "metadata": {
            "tags": [],
            "image/png": {
              "width": 420,
              "height": 420
            }
          }
        }
      ]
    },
    {
      "cell_type": "markdown",
      "metadata": {
        "id": "5HVjrEcP6IUv"
      },
      "source": [
        "討論二:台南市各地區確診\"**性別**\"及\"**是否為境外移入**\"統計"
      ]
    },
    {
      "cell_type": "code",
      "metadata": {
        "colab": {
          "base_uri": "https://localhost:8080/",
          "height": 1000
        },
        "id": "QFZVroVeuPNc",
        "outputId": "61d7bb6e-f6a8-487c-8d8a-a0149f68c7af"
      },
      "source": [
        "trafic %>%\n",
        " dplyr::filter(縣市 == \"台南市\") %>%\n",
        " dplyr::select(鄉鎮,性別,是否為境外移入)"
      ],
      "execution_count": 44,
      "outputs": [
        {
          "output_type": "display_data",
          "data": {
            "text/plain": [
              "     鄉鎮   性別 是否為境外移入\n",
              "1    安南區 F    否            \n",
              "2    南區   F    否            \n",
              "3    東區   M    是            \n",
              "4    中西區 M    是            \n",
              "5    安平區 M    是            \n",
              "6    新營區 F    是            \n",
              "7    中西區 F    否            \n",
              "8    安南區 M    否            \n",
              "9    東區   M    否            \n",
              "10   善化區 F    是            \n",
              "11   仁德區 F    是            \n",
              "12   安南區 M    是            \n",
              "13   新營區 F    是            \n",
              "14   仁德區 M    是            \n",
              "15   北區   F    否            \n",
              "16   北區   F    否            \n",
              "17   北區   F    否            \n",
              "18   北區   F    否            \n",
              "19   北區   F    否            \n",
              "20   北區   M    否            \n",
              "21   北區   M    否            \n",
              "22   北區   M    否            \n",
              "23   北區   M    否            \n",
              "24   永康區 F    否            \n",
              "25   安南區 M    否            \n",
              "26   麻豆區 F    否            \n",
              "27   北區   F    否            \n",
              "28   北區   F    否            \n",
              "29   北區   F    否            \n",
              "30   北區   F    否            \n",
              "⋮    ⋮      ⋮    ⋮             \n",
              "3914 東區   M    否            \n",
              "3915 東區   M    否            \n",
              "3916 東區   M    否            \n",
              "3917 南區   F    否            \n",
              "3918 南區   F    否            \n",
              "3919 麻豆區 M    是            \n",
              "3920 善化區 F    是            \n",
              "3921 新化區 M    否            \n",
              "3922 新營區 F    是            \n",
              "3923 北區   F    是            \n",
              "3924 北區   M    否            \n",
              "3925 佳里區 M    是            \n",
              "3926 東區   F    否            \n",
              "3927 東區   F    是            \n",
              "3928 東區   M    否            \n",
              "3929 東區   M    否            \n",
              "3930 南區   F    否            \n",
              "3931 北區   M    否            \n",
              "3932 永康區 M    否            \n",
              "3933 安南區 F    否            \n",
              "3934 安南區 F    是            \n",
              "3935 東區   F    否            \n",
              "3936 東區   F    否            \n",
              "3937 東區   M    否            \n",
              "3938 東區   M    是            \n",
              "3939 下營區 F    是            \n",
              "3940 永康區 M    是            \n",
              "3941 佳里區 F    是            \n",
              "3942 鹽水區 M    是            \n",
              "3943 永康區 M    是            "
            ],
            "text/latex": "A data.frame: 3943 × 3\n\\begin{tabular}{lll}\n 鄉鎮 & 性別 & 是否為境外移入\\\\\n <chr> & <chr> & <chr>\\\\\n\\hline\n\t 安南區 & F & 否\\\\\n\t 南區   & F & 否\\\\\n\t 東區   & M & 是\\\\\n\t 中西區 & M & 是\\\\\n\t 安平區 & M & 是\\\\\n\t 新營區 & F & 是\\\\\n\t 中西區 & F & 否\\\\\n\t 安南區 & M & 否\\\\\n\t 東區   & M & 否\\\\\n\t 善化區 & F & 是\\\\\n\t 仁德區 & F & 是\\\\\n\t 安南區 & M & 是\\\\\n\t 新營區 & F & 是\\\\\n\t 仁德區 & M & 是\\\\\n\t 北區   & F & 否\\\\\n\t 北區   & F & 否\\\\\n\t 北區   & F & 否\\\\\n\t 北區   & F & 否\\\\\n\t 北區   & F & 否\\\\\n\t 北區   & M & 否\\\\\n\t 北區   & M & 否\\\\\n\t 北區   & M & 否\\\\\n\t 北區   & M & 否\\\\\n\t 永康區 & F & 否\\\\\n\t 安南區 & M & 否\\\\\n\t 麻豆區 & F & 否\\\\\n\t 北區   & F & 否\\\\\n\t 北區   & F & 否\\\\\n\t 北區   & F & 否\\\\\n\t 北區   & F & 否\\\\\n\t ⋮ & ⋮ & ⋮\\\\\n\t 東區   & M & 否\\\\\n\t 東區   & M & 否\\\\\n\t 東區   & M & 否\\\\\n\t 南區   & F & 否\\\\\n\t 南區   & F & 否\\\\\n\t 麻豆區 & M & 是\\\\\n\t 善化區 & F & 是\\\\\n\t 新化區 & M & 否\\\\\n\t 新營區 & F & 是\\\\\n\t 北區   & F & 是\\\\\n\t 北區   & M & 否\\\\\n\t 佳里區 & M & 是\\\\\n\t 東區   & F & 否\\\\\n\t 東區   & F & 是\\\\\n\t 東區   & M & 否\\\\\n\t 東區   & M & 否\\\\\n\t 南區   & F & 否\\\\\n\t 北區   & M & 否\\\\\n\t 永康區 & M & 否\\\\\n\t 安南區 & F & 否\\\\\n\t 安南區 & F & 是\\\\\n\t 東區   & F & 否\\\\\n\t 東區   & F & 否\\\\\n\t 東區   & M & 否\\\\\n\t 東區   & M & 是\\\\\n\t 下營區 & F & 是\\\\\n\t 永康區 & M & 是\\\\\n\t 佳里區 & F & 是\\\\\n\t 鹽水區 & M & 是\\\\\n\t 永康區 & M & 是\\\\\n\\end{tabular}\n",
            "text/markdown": "\nA data.frame: 3943 × 3\n\n| 鄉鎮 &lt;chr&gt; | 性別 &lt;chr&gt; | 是否為境外移入 &lt;chr&gt; |\n|---|---|---|\n| 安南區 | F | 否 |\n| 南區   | F | 否 |\n| 東區   | M | 是 |\n| 中西區 | M | 是 |\n| 安平區 | M | 是 |\n| 新營區 | F | 是 |\n| 中西區 | F | 否 |\n| 安南區 | M | 否 |\n| 東區   | M | 否 |\n| 善化區 | F | 是 |\n| 仁德區 | F | 是 |\n| 安南區 | M | 是 |\n| 新營區 | F | 是 |\n| 仁德區 | M | 是 |\n| 北區   | F | 否 |\n| 北區   | F | 否 |\n| 北區   | F | 否 |\n| 北區   | F | 否 |\n| 北區   | F | 否 |\n| 北區   | M | 否 |\n| 北區   | M | 否 |\n| 北區   | M | 否 |\n| 北區   | M | 否 |\n| 永康區 | F | 否 |\n| 安南區 | M | 否 |\n| 麻豆區 | F | 否 |\n| 北區   | F | 否 |\n| 北區   | F | 否 |\n| 北區   | F | 否 |\n| 北區   | F | 否 |\n| ⋮ | ⋮ | ⋮ |\n| 東區   | M | 否 |\n| 東區   | M | 否 |\n| 東區   | M | 否 |\n| 南區   | F | 否 |\n| 南區   | F | 否 |\n| 麻豆區 | M | 是 |\n| 善化區 | F | 是 |\n| 新化區 | M | 否 |\n| 新營區 | F | 是 |\n| 北區   | F | 是 |\n| 北區   | M | 否 |\n| 佳里區 | M | 是 |\n| 東區   | F | 否 |\n| 東區   | F | 是 |\n| 東區   | M | 否 |\n| 東區   | M | 否 |\n| 南區   | F | 否 |\n| 北區   | M | 否 |\n| 永康區 | M | 否 |\n| 安南區 | F | 否 |\n| 安南區 | F | 是 |\n| 東區   | F | 否 |\n| 東區   | F | 否 |\n| 東區   | M | 否 |\n| 東區   | M | 是 |\n| 下營區 | F | 是 |\n| 永康區 | M | 是 |\n| 佳里區 | F | 是 |\n| 鹽水區 | M | 是 |\n| 永康區 | M | 是 |\n\n",
            "text/html": [
              "<table>\n",
              "<caption>A data.frame: 3943 × 3</caption>\n",
              "<thead>\n",
              "\t<tr><th scope=col>鄉鎮</th><th scope=col>性別</th><th scope=col>是否為境外移入</th></tr>\n",
              "\t<tr><th scope=col>&lt;chr&gt;</th><th scope=col>&lt;chr&gt;</th><th scope=col>&lt;chr&gt;</th></tr>\n",
              "</thead>\n",
              "<tbody>\n",
              "\t<tr><td>安南區</td><td>F</td><td>否</td></tr>\n",
              "\t<tr><td>南區  </td><td>F</td><td>否</td></tr>\n",
              "\t<tr><td>東區  </td><td>M</td><td>是</td></tr>\n",
              "\t<tr><td>中西區</td><td>M</td><td>是</td></tr>\n",
              "\t<tr><td>安平區</td><td>M</td><td>是</td></tr>\n",
              "\t<tr><td>新營區</td><td>F</td><td>是</td></tr>\n",
              "\t<tr><td>中西區</td><td>F</td><td>否</td></tr>\n",
              "\t<tr><td>安南區</td><td>M</td><td>否</td></tr>\n",
              "\t<tr><td>東區  </td><td>M</td><td>否</td></tr>\n",
              "\t<tr><td>善化區</td><td>F</td><td>是</td></tr>\n",
              "\t<tr><td>仁德區</td><td>F</td><td>是</td></tr>\n",
              "\t<tr><td>安南區</td><td>M</td><td>是</td></tr>\n",
              "\t<tr><td>新營區</td><td>F</td><td>是</td></tr>\n",
              "\t<tr><td>仁德區</td><td>M</td><td>是</td></tr>\n",
              "\t<tr><td>北區  </td><td>F</td><td>否</td></tr>\n",
              "\t<tr><td>北區  </td><td>F</td><td>否</td></tr>\n",
              "\t<tr><td>北區  </td><td>F</td><td>否</td></tr>\n",
              "\t<tr><td>北區  </td><td>F</td><td>否</td></tr>\n",
              "\t<tr><td>北區  </td><td>F</td><td>否</td></tr>\n",
              "\t<tr><td>北區  </td><td>M</td><td>否</td></tr>\n",
              "\t<tr><td>北區  </td><td>M</td><td>否</td></tr>\n",
              "\t<tr><td>北區  </td><td>M</td><td>否</td></tr>\n",
              "\t<tr><td>北區  </td><td>M</td><td>否</td></tr>\n",
              "\t<tr><td>永康區</td><td>F</td><td>否</td></tr>\n",
              "\t<tr><td>安南區</td><td>M</td><td>否</td></tr>\n",
              "\t<tr><td>麻豆區</td><td>F</td><td>否</td></tr>\n",
              "\t<tr><td>北區  </td><td>F</td><td>否</td></tr>\n",
              "\t<tr><td>北區  </td><td>F</td><td>否</td></tr>\n",
              "\t<tr><td>北區  </td><td>F</td><td>否</td></tr>\n",
              "\t<tr><td>北區  </td><td>F</td><td>否</td></tr>\n",
              "\t<tr><td>⋮</td><td>⋮</td><td>⋮</td></tr>\n",
              "\t<tr><td>東區  </td><td>M</td><td>否</td></tr>\n",
              "\t<tr><td>東區  </td><td>M</td><td>否</td></tr>\n",
              "\t<tr><td>東區  </td><td>M</td><td>否</td></tr>\n",
              "\t<tr><td>南區  </td><td>F</td><td>否</td></tr>\n",
              "\t<tr><td>南區  </td><td>F</td><td>否</td></tr>\n",
              "\t<tr><td>麻豆區</td><td>M</td><td>是</td></tr>\n",
              "\t<tr><td>善化區</td><td>F</td><td>是</td></tr>\n",
              "\t<tr><td>新化區</td><td>M</td><td>否</td></tr>\n",
              "\t<tr><td>新營區</td><td>F</td><td>是</td></tr>\n",
              "\t<tr><td>北區  </td><td>F</td><td>是</td></tr>\n",
              "\t<tr><td>北區  </td><td>M</td><td>否</td></tr>\n",
              "\t<tr><td>佳里區</td><td>M</td><td>是</td></tr>\n",
              "\t<tr><td>東區  </td><td>F</td><td>否</td></tr>\n",
              "\t<tr><td>東區  </td><td>F</td><td>是</td></tr>\n",
              "\t<tr><td>東區  </td><td>M</td><td>否</td></tr>\n",
              "\t<tr><td>東區  </td><td>M</td><td>否</td></tr>\n",
              "\t<tr><td>南區  </td><td>F</td><td>否</td></tr>\n",
              "\t<tr><td>北區  </td><td>M</td><td>否</td></tr>\n",
              "\t<tr><td>永康區</td><td>M</td><td>否</td></tr>\n",
              "\t<tr><td>安南區</td><td>F</td><td>否</td></tr>\n",
              "\t<tr><td>安南區</td><td>F</td><td>是</td></tr>\n",
              "\t<tr><td>東區  </td><td>F</td><td>否</td></tr>\n",
              "\t<tr><td>東區  </td><td>F</td><td>否</td></tr>\n",
              "\t<tr><td>東區  </td><td>M</td><td>否</td></tr>\n",
              "\t<tr><td>東區  </td><td>M</td><td>是</td></tr>\n",
              "\t<tr><td>下營區</td><td>F</td><td>是</td></tr>\n",
              "\t<tr><td>永康區</td><td>M</td><td>是</td></tr>\n",
              "\t<tr><td>佳里區</td><td>F</td><td>是</td></tr>\n",
              "\t<tr><td>鹽水區</td><td>M</td><td>是</td></tr>\n",
              "\t<tr><td>永康區</td><td>M</td><td>是</td></tr>\n",
              "</tbody>\n",
              "</table>\n"
            ]
          },
          "metadata": {
            "tags": []
          }
        }
      ]
    },
    {
      "cell_type": "code",
      "metadata": {
        "colab": {
          "base_uri": "https://localhost:8080/",
          "height": 135
        },
        "id": "bFZyjDIb9isw",
        "outputId": "8b2242b4-5adc-44cd-c0fa-20adb2daec68"
      },
      "source": [
        "性別 <- trafic %>%"
      ],
      "execution_count": 52,
      "outputs": [
        {
          "output_type": "error",
          "ename": "ERROR",
          "evalue": "ignored",
          "traceback": [
            "Error in parse(text = x, srcfile = src): <text>:2:0: unexpected end of input\n1: 性別 <- trafic %>%\n   ^\nTraceback:\n"
          ]
        }
      ]
    },
    {
      "cell_type": "code",
      "metadata": {
        "colab": {
          "base_uri": "https://localhost:8080/",
          "height": 172
        },
        "id": "MBAkRPES9ZKK",
        "outputId": "d7a73cb1-eae3-4476-ee38-feea908d748a"
      },
      "source": [
        "性別 %>% count(年齡層, sort = T)"
      ],
      "execution_count": 51,
      "outputs": [
        {
          "output_type": "error",
          "ename": "ERROR",
          "evalue": "ignored",
          "traceback": [
            "Error in eval(lhs, parent, parent): object '性別' not found\nTraceback:\n",
            "1. 性別 %>% count(年齡層, sort = T)",
            "2. eval(lhs, parent, parent)",
            "3. eval(lhs, parent, parent)"
          ]
        }
      ]
    },
    {
      "cell_type": "code",
      "metadata": {
        "colab": {
          "base_uri": "https://localhost:8080/",
          "height": 172
        },
        "id": "yQySJAXt8rIj",
        "outputId": "b44a763e-4980-449f-9863-c50e4008dc3f"
      },
      "source": [
        "性別 %>%\n",
        " count(年齡層) %>%\n",
        " ggplot(aes(x = 年齡層,y = n)) +\n",
        " geom_col()"
      ],
      "execution_count": 49,
      "outputs": [
        {
          "output_type": "error",
          "ename": "ERROR",
          "evalue": "ignored",
          "traceback": [
            "Error in eval(lhs, parent, parent): object '性別' not found\nTraceback:\n",
            "1. 性別 %>% count(年齡層) %>% ggplot(aes(x = 年齡層, y = n))",
            "2. eval(lhs, parent, parent)",
            "3. eval(lhs, parent, parent)"
          ]
        }
      ]
    }
  ]
}