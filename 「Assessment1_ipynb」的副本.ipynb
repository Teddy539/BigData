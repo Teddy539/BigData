{
  "nbformat": 4,
  "nbformat_minor": 0,
  "metadata": {
    "colab": {
      "name": "「Assessment1.ipynb」的副本",
      "provenance": [],
      "collapsed_sections": [],
      "include_colab_link": true
    },
    "kernelspec": {
      "name": "ir",
      "display_name": "R"
    }
  },
  "cells": [
    {
      "cell_type": "markdown",
      "metadata": {
        "id": "view-in-github",
        "colab_type": "text"
      },
      "source": [
        "<a href=\"https://colab.research.google.com/github/Teddy539/BigDeta/blob/master/%E3%80%8CAssessment1_ipynb%E3%80%8D%E7%9A%84%E5%89%AF%E6%9C%AC.ipynb\" target=\"_parent\"><img src=\"https://colab.research.google.com/assets/colab-badge.svg\" alt=\"Open In Colab\"/></a>"
      ]
    },
    {
      "cell_type": "code",
      "metadata": {
        "id": "R8BHuXGKWf4r",
        "colab_type": "code",
        "colab": {
          "base_uri": "https://localhost:8080/",
          "height": 34
        },
        "outputId": "2e2b9443-4b39-43e4-b4b6-7ff0bf9030ea"
      },
      "source": [
        "class(5)"
      ],
      "execution_count": null,
      "outputs": [
        {
          "output_type": "display_data",
          "data": {
            "text/plain": [
              "[1] \"numeric\""
            ],
            "text/latex": "'numeric'",
            "text/markdown": "'numeric'",
            "text/html": [
              "'numeric'"
            ]
          },
          "metadata": {
            "tags": []
          }
        }
      ]
    },
    {
      "cell_type": "code",
      "metadata": {
        "id": "8g-xbdjnXQQL",
        "colab_type": "code",
        "colab": {
          "base_uri": "https://localhost:8080/",
          "height": 34
        },
        "outputId": "d779eeea-ff2d-4805-c1a3-dfbb7538d8e7"
      },
      "source": [
        "class(\"hi\")"
      ],
      "execution_count": null,
      "outputs": [
        {
          "output_type": "display_data",
          "data": {
            "text/plain": [
              "[1] \"character\""
            ],
            "text/latex": "'character'",
            "text/markdown": "'character'",
            "text/html": [
              "'character'"
            ]
          },
          "metadata": {
            "tags": []
          }
        }
      ]
    },
    {
      "cell_type": "code",
      "metadata": {
        "id": "rtgmszg5XjFF",
        "colab_type": "code",
        "colab": {
          "base_uri": "https://localhost:8080/",
          "height": 34
        },
        "outputId": "b054a332-155f-4f94-dfd0-e4eb260cad2a"
      },
      "source": [
        "12 + 512 > 52 + 500"
      ],
      "execution_count": null,
      "outputs": [
        {
          "output_type": "display_data",
          "data": {
            "text/plain": [
              "[1] FALSE"
            ],
            "text/latex": "FALSE",
            "text/markdown": "FALSE",
            "text/html": [
              "FALSE"
            ]
          },
          "metadata": {
            "tags": []
          }
        }
      ]
    },
    {
      "cell_type": "code",
      "metadata": {
        "id": "Z4j6WTauX4O9",
        "colab_type": "code",
        "colab": {
          "base_uri": "https://localhost:8080/",
          "height": 34
        },
        "outputId": "a30cae57-ff4e-4731-daaf-d25857f584a8"
      },
      "source": [
        "9512 - 699"
      ],
      "execution_count": null,
      "outputs": [
        {
          "output_type": "display_data",
          "data": {
            "text/plain": [
              "[1] 8813"
            ],
            "text/latex": "8813",
            "text/markdown": "8813",
            "text/html": [
              "8813"
            ]
          },
          "metadata": {
            "tags": []
          }
        }
      ]
    },
    {
      "cell_type": "code",
      "metadata": {
        "id": "Hu_aG_RHYLry",
        "colab_type": "code",
        "colab": {
          "base_uri": "https://localhost:8080/",
          "height": 34
        },
        "outputId": "b5296cc6-969c-42c0-eaa6-7c4942acc7c4"
      },
      "source": [
        "9888 + 673 + 489 - 777"
      ],
      "execution_count": null,
      "outputs": [
        {
          "output_type": "display_data",
          "data": {
            "text/plain": [
              "[1] 10273"
            ],
            "text/latex": "10273",
            "text/markdown": "10273",
            "text/html": [
              "10273"
            ]
          },
          "metadata": {
            "tags": []
          }
        }
      ]
    },
    {
      "cell_type": "code",
      "metadata": {
        "id": "6un7kEDyYg9U",
        "colab_type": "code",
        "colab": {}
      },
      "source": [
        "my_h <- 165"
      ],
      "execution_count": null,
      "outputs": []
    },
    {
      "cell_type": "code",
      "metadata": {
        "id": "fbnGdEyVY0xL",
        "colab_type": "code",
        "colab": {}
      },
      "source": [
        "my_w <- 54"
      ],
      "execution_count": null,
      "outputs": []
    },
    {
      "cell_type": "code",
      "metadata": {
        "id": "MsognWtQZDAr",
        "colab_type": "code",
        "colab": {
          "base_uri": "https://localhost:8080/",
          "height": 34
        },
        "outputId": "05314cea-ac90-436b-d54f-999d51beee20"
      },
      "source": [
        "my_h"
      ],
      "execution_count": null,
      "outputs": [
        {
          "output_type": "display_data",
          "data": {
            "text/plain": [
              "[1] 165"
            ],
            "text/latex": "165",
            "text/markdown": "165",
            "text/html": [
              "165"
            ]
          },
          "metadata": {
            "tags": []
          }
        }
      ]
    },
    {
      "cell_type": "code",
      "metadata": {
        "id": "1FTZ_9QbZhw1",
        "colab_type": "code",
        "colab": {}
      },
      "source": [
        "my_BMI <- 19.8"
      ],
      "execution_count": null,
      "outputs": []
    },
    {
      "cell_type": "code",
      "metadata": {
        "id": "IHKLeQleZqTl",
        "colab_type": "code",
        "colab": {
          "base_uri": "https://localhost:8080/",
          "height": 34
        },
        "outputId": "e4eed7e1-a34d-49d8-f3ce-eeeea1d9dc52"
      },
      "source": [
        "my_BMI"
      ],
      "execution_count": null,
      "outputs": [
        {
          "output_type": "display_data",
          "data": {
            "text/plain": [
              "[1] 19.8"
            ],
            "text/latex": "19.8",
            "text/markdown": "19.8",
            "text/html": [
              "19.8"
            ]
          },
          "metadata": {
            "tags": []
          }
        }
      ]
    },
    {
      "cell_type": "code",
      "metadata": {
        "id": "S-9mY47bZFnU",
        "colab_type": "code",
        "colab": {}
      },
      "source": [
        "first_name <- \"洪第庭\""
      ],
      "execution_count": null,
      "outputs": []
    },
    {
      "cell_type": "code",
      "metadata": {
        "id": "cnkThNHMZV7j",
        "colab_type": "code",
        "colab": {
          "base_uri": "https://localhost:8080/",
          "height": 34
        },
        "outputId": "bc838e84-c986-4d04-a9ac-a1a280b9d713"
      },
      "source": [
        "first_name"
      ],
      "execution_count": null,
      "outputs": [
        {
          "output_type": "display_data",
          "data": {
            "text/plain": [
              "[1] \"洪第庭\""
            ],
            "text/latex": "'洪第庭'",
            "text/markdown": "'洪第庭'",
            "text/html": [
              "'洪第庭'"
            ]
          },
          "metadata": {
            "tags": []
          }
        }
      ]
    },
    {
      "cell_type": "code",
      "metadata": {
        "id": "ef6tdkmIaC-4",
        "colab_type": "code",
        "colab": {
          "base_uri": "https://localhost:8080/",
          "height": 34
        },
        "outputId": "95e72493-e386-41bf-8c93-71820dc4f2e1"
      },
      "source": [
        "paste0(\"我的名子\",first_name,\"身高\",my_h,\"體重\",my_w)"
      ],
      "execution_count": null,
      "outputs": [
        {
          "output_type": "display_data",
          "data": {
            "text/plain": [
              "[1] \"我的名子洪第庭身高165體重54\""
            ],
            "text/latex": "'我的名子洪第庭身高165體重54'",
            "text/markdown": "'我的名子洪第庭身高165體重54'",
            "text/html": [
              "'我的名子洪第庭身高165體重54'"
            ]
          },
          "metadata": {
            "tags": []
          }
        }
      ]
    }
  ]
}