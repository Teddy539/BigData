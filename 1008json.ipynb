{
  "nbformat": 4,
  "nbformat_minor": 0,
  "metadata": {
    "colab": {
      "name": "1008json.ipynb",
      "provenance": [],
      "collapsed_sections": [],
      "include_colab_link": true
    },
    "kernelspec": {
      "name": "ir",
      "display_name": "R"
    }
  },
  "cells": [
    {
      "cell_type": "markdown",
      "metadata": {
        "id": "view-in-github",
        "colab_type": "text"
      },
      "source": [
        "<a href=\"https://colab.research.google.com/github/Teddy539/BigDeta/blob/master/1008json.ipynb\" target=\"_parent\"><img src=\"https://colab.research.google.com/assets/colab-badge.svg\" alt=\"Open In Colab\"/></a>"
      ]
    },
    {
      "cell_type": "code",
      "metadata": {
        "id": "QtYPOWtpg9Ew",
        "outputId": "4b45e887-3218-47c6-fd7a-ac0145e161a4",
        "colab": {
          "base_uri": "https://localhost:8080/",
          "height": 68
        }
      },
      "source": [
        "install.packages(\"jsonlite\")"
      ],
      "execution_count": 7,
      "outputs": [
        {
          "output_type": "stream",
          "text": [
            "Installing package into ‘/usr/local/lib/R/site-library’\n",
            "(as ‘lib’ is unspecified)\n",
            "\n"
          ],
          "name": "stderr"
        }
      ]
    },
    {
      "cell_type": "code",
      "metadata": {
        "id": "NIut0nbzhXth"
      },
      "source": [
        "library(\"jsonlite\")"
      ],
      "execution_count": 8,
      "outputs": []
    },
    {
      "cell_type": "code",
      "metadata": {
        "id": "Iiy_pMF7hdL2"
      },
      "source": [
        "PetData<-jsonlite::fromJSON(\"https://data.taipei/opendata/datalist/apiAccess?scope=resourceAquire&rid=f4a75ba9-7721-4363-884d-c3820b0b917c\")"
      ],
      "execution_count": 9,
      "outputs": []
    },
    {
      "cell_type": "code",
      "metadata": {
        "id": "41vknbV9iPjR",
        "outputId": "69da8063-c610-4d5d-999d-05db1f8e8ae9",
        "colab": {
          "base_uri": "https://localhost:8080/",
          "height": 496
        }
      },
      "source": [
        "str(PetData)"
      ],
      "execution_count": 10,
      "outputs": [
        {
          "output_type": "stream",
          "text": [
            "List of 1\n",
            " $ result:List of 5\n",
            "  ..$ limit  : int 1000\n",
            "  ..$ offset : int 0\n",
            "  ..$ count  : int 365\n",
            "  ..$ sort   : chr \"\"\n",
            "  ..$ results:'data.frame':\t365 obs. of  20 variables:\n",
            "  .. ..$ AcceptNum      : chr [1:365] \"106060601\" \"106060401\" \"106060210\" \"106060207\" ...\n",
            "  .. ..$ IsSterilization: chr [1:365] \"未絕育\" \"已絕育\" \"未絕育\" \"未絕育\" ...\n",
            "  .. ..$ Name           : chr [1:365] \"\" \"\" \"俊俊\" \"小莊\" ...\n",
            "  .. ..$ Variety        : chr [1:365] \"米克斯\" \"米克斯\" \"米克斯\" \"米克斯\" ...\n",
            "  .. ..$ Age            : chr [1:365] \"成年\" \"成年\" \"成年\" \"成年\" ...\n",
            "  .. ..$ ChildreAnlong  : chr [1:365] \"\" \"\" \"\" \"\" ...\n",
            "  .. ..$ Resettlement   : chr [1:365] \"臺北市動物之家 收容編號106060601\" \"\" \"臺北市動物之家 收容編號106060210\" \"臺北市動物之家 收容編號106060207\" ...\n",
            "  .. ..$ Sex            : chr [1:365] \"雄\" \"雌\" \"雄\" \"雄\" ...\n",
            "  .. ..$ Note           : chr [1:365] \"左剪耳 輕微脫水 精神食慾不佳\" \"\" \"嗨~~我的名字叫俊俊，希望帥氣的我可以受您的青睞，快來動物之家看看我吧!\\n\" \"哈囉~我的名字叫小莊，目前我在動物之家生活，希望能快快找到，願意認養我的人來帶我回家!!\\n\" ...\n",
            "  .. ..$ Phone          : chr [1:365] \"02-87913063\" \"\" \"02-87913062\" \"02-87913062\" ...\n",
            "  .. ..$ Reason         : chr [1:365] \"民眾不擬續養\" \"民眾不擬續養\" \"動物管制\" \"動物管制\" ...\n",
            "  .. ..$ ImageName      : chr [1:365] \"http://163.29.39.183/uploads/images/medium/c0f66294-143c-4406-8714-2e6764352b13.jpg\" \"http://163.29.39.183/uploads/images/medium/4ffa231f-3108-43c1-8ccf-b8578bdf1e1a.jpg\" \"http://163.29.39.183/uploads/images/medium/e68771df-747e-4544-846a-bdd6099e7f90.jpg\" \"http://163.29.39.183/uploads/images/medium/fd75d049-5310-4016-b1f4-71d69c4a9912.jpg\" ...\n",
            "  .. ..$ HairType       : chr [1:365] \"虎斑白\" \"黃白\" \"黃白\" \"黃\" ...\n",
            "  .. ..$ Build          : chr [1:365] \"中\" \"中\" \"中\" \"中\" ...\n",
            "  .. ..$ AnimalAnlong   : chr [1:365] \"\" \"\" \"\" \"\" ...\n",
            "  .. ..$ ChipNum        : chr [1:365] \"900073000086900\" \"900073000086481\" \"\" \"\" ...\n",
            "  .. ..$ _id            : int [1:365] 1 2 3 4 5 6 7 8 9 10 ...\n",
            "  .. ..$ Type           : chr [1:365] \"貓\" \"貓\" \"貓\" \"貓\" ...\n",
            "  .. ..$ Email          : chr [1:365] \"tcapoa8@mail.taipei.gov.tw\" \"\" \"tcapoa8@mail.taipei.gov.tw\" \"tcapoa8@mail.taipei.gov.tw\" ...\n",
            "  .. ..$ Bodyweight     : chr [1:365] \"\" \"\" \"\" \"\" ...\n"
          ],
          "name": "stdout"
        }
      ]
    },
    {
      "cell_type": "code",
      "metadata": {
        "id": "iWxlm-DwjCdJ",
        "outputId": "bedc723f-d77b-4ec0-dbc2-dc7a28a279f5",
        "colab": {
          "base_uri": "https://localhost:8080/",
          "height": 68
        }
      },
      "source": [
        "table(PetData$result$results$Reason)"
      ],
      "execution_count": 12,
      "outputs": [
        {
          "output_type": "display_data",
          "data": {
            "text/plain": [
              "\n",
              "                 動物救援     動物管制 民眾不擬續養     民眾拾獲 \n",
              "          28          109          155           50           23 "
            ]
          },
          "metadata": {
            "tags": []
          }
        }
      ]
    },
    {
      "cell_type": "code",
      "metadata": {
        "id": "ydJ4tHe1jZFx",
        "outputId": "e4cc50fc-7ec9-4b27-8832-f3b1d9cd5006",
        "colab": {
          "base_uri": "https://localhost:8080/",
          "height": 68
        }
      },
      "source": [
        "table(PetData$result$results$Sex)"
      ],
      "execution_count": 13,
      "outputs": [
        {
          "output_type": "display_data",
          "data": {
            "text/plain": [
              "\n",
              " 雄  雌 \n",
              "190 175 "
            ]
          },
          "metadata": {
            "tags": []
          }
        }
      ]
    },
    {
      "cell_type": "code",
      "metadata": {
        "id": "rE3miWrMjdEj",
        "outputId": "b831a7a2-4106-459e-958b-c6aa2c0c72b3",
        "colab": {
          "base_uri": "https://localhost:8080/",
          "height": 68
        }
      },
      "source": [
        "table(PetData$result$results$IsSterilization)"
      ],
      "execution_count": 14,
      "outputs": [
        {
          "output_type": "display_data",
          "data": {
            "text/plain": [
              "\n",
              "已絕育 未絕育 \n",
              "   151    214 "
            ]
          },
          "metadata": {
            "tags": []
          }
        }
      ]
    },
    {
      "cell_type": "code",
      "metadata": {
        "id": "PoMW-jKjjnz5",
        "outputId": "8185063f-48fd-46bd-b449-dcd91423cd5b",
        "colab": {
          "base_uri": "https://localhost:8080/",
          "height": 68
        }
      },
      "source": [
        "table(PetData$result$results$Type)"
      ],
      "execution_count": 16,
      "outputs": [
        {
          "output_type": "display_data",
          "data": {
            "text/plain": [
              "\n",
              "其他   犬   貓 \n",
              "  62  187  116 "
            ]
          },
          "metadata": {
            "tags": []
          }
        }
      ]
    }
  ]
}